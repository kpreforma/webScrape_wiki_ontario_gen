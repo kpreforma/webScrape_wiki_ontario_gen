{
 "cells": [
  {
   "cell_type": "code",
   "execution_count": 1,
   "metadata": {},
   "outputs": [],
   "source": [
    "import pandas as pd\n",
    "import requests as req\n",
    "import io\n",
    "from bs4 import BeautifulSoup as bs"
   ]
  },
  {
   "cell_type": "code",
   "execution_count": 2,
   "metadata": {},
   "outputs": [
    {
     "name": "stdout",
     "output_type": "stream",
     "text": [
      "200\n"
     ]
    }
   ],
   "source": [
    "wikiurl = \"https://en.wikipedia.org/wiki/List_of_generating_stations_in_Ontario\"\n",
    "res = req.get(wikiurl)\n",
    "print(res.status_code)"
   ]
  },
  {
   "cell_type": "code",
   "execution_count": 3,
   "metadata": {},
   "outputs": [],
   "source": [
    "gen_tables = bs(res.text, \"html.parser\").find_all(\"table\", {\"class\": \"wikitable sortable\"})\n",
    "gen_tables_str = [io.StringIO(str(table)) for table in gen_tables]\n",
    "gen_tables_df = [pd.read_html(table)[0] for table in gen_tables_str]\n",
    "\n",
    "# gen_tables_df[2]"
   ]
  },
  {
   "cell_type": "code",
   "execution_count": 4,
   "metadata": {},
   "outputs": [],
   "source": [
    "tech = [\"Nuclear\", \"Fossil fuel\", \"Biomass\", \"Hydroelectric\", \"Wind\", \"Solar\"]\n",
    "for i, t in enumerate(tech):\n",
    "  gen_tables_df[i][\"Tech\"] = t"
   ]
  },
  {
   "cell_type": "code",
   "execution_count": 5,
   "metadata": {},
   "outputs": [],
   "source": [
    "all_tech_df = pd.concat(gen_tables_df, ignore_index=True)"
   ]
  },
  {
   "cell_type": "code",
   "execution_count": 6,
   "metadata": {},
   "outputs": [],
   "source": [
    "all_tech_clean_columns = pd.DataFrame(all_tech_df, columns = [\"Name\", \"Location\", \"Capacity (MW)\", \"Owner\", \"Tech\", \"Type\"])"
   ]
  },
  {
   "cell_type": "code",
   "execution_count": 7,
   "metadata": {},
   "outputs": [],
   "source": [
    "# all_tech_clean_columns[(all_tech_clean_columns[\"Name\"] != \"TOTAL\")].to_excel(\"output.xlsx\")"
   ]
  },
  {
   "cell_type": "code",
   "execution_count": 12,
   "metadata": {},
   "outputs": [
    {
     "data": {
      "text/plain": [
       "0      Ontario Power Generation (operated under contr...\n",
       "1                               Ontario Power Generation\n",
       "2                               Ontario Power Generation\n",
       "3                                                    NaN\n",
       "4                                       Algoma Energy LP\n",
       "                             ...                        \n",
       "259                                      Northland Power\n",
       "260                                      Northland Power\n",
       "261                        Samsung Renewable Energy Inc.\n",
       "262                                 Lily Lake Solar Inc.\n",
       "263                                                  NaN\n",
       "Name: Owner, Length: 264, dtype: object"
      ]
     },
     "execution_count": 12,
     "metadata": {},
     "output_type": "execute_result"
    }
   ],
   "source": [
    "all_tech_clean_columns.Owner"
   ]
  },
  {
   "cell_type": "code",
   "execution_count": 4,
   "metadata": {},
   "outputs": [
    {
     "data": {
      "text/plain": [
       "[]"
      ]
     },
     "execution_count": 4,
     "metadata": {},
     "output_type": "execute_result"
    }
   ],
   "source": [
    "languages1=['Python','PHP','Java',]\n",
    "languages2=['C','C++','C#']\n",
    "\n",
    "languages1[:0]\n"
   ]
  },
  {
   "cell_type": "code",
   "execution_count": 6,
   "metadata": {},
   "outputs": [
    {
     "name": "stdout",
     "output_type": "stream",
     "text": [
      "2\n",
      "4\n",
      "7\n"
     ]
    }
   ],
   "source": [
    "def solution(a, m, k):\n",
    "  freq = {}\n",
    "  counter = 0\n",
    "  for i in range(m - 1):\n",
    "    freq[a[i]] = freq.get(a[i], 0) + 1\n",
    "  \n",
    "  for i in range(m - 1, len(a)):\n",
    "    freq[a[i]] = freq.get(a[i], 0) + 1\n",
    "    print(f\"{i} | {freq} | find: {k - a[i]}\")\n",
    "    if freq.get(k - a[i], 0) > 0:\n",
    "      print(\"found\")\n",
    "      counter += 1\n",
    "    freq[a[i - m + 1]] -= 1\n",
    "  return counter\n",
    "\n",
    "solution([2, 4, 7, 5, 3, 5, 8, 5, 1, 7], 4, 10)"
   ]
  },
  {
   "cell_type": "markdown",
   "metadata": {},
   "source": [
    "Given an array of integers a, your task is to find how many of its contiguous subarrays of length m contain a pair of integers with a sum equal to k.\n",
    "\n",
    "More formally, given the array a, your task is to count the number of indices 0 ≤ i ≤ a.length - m such that a subarray [a[i], a[i + 1], ..., a[i + m - 1]] contains at least one pair (a[s], a[t]), where:\n",
    "\n",
    "s ≠ t\n",
    "a[s] + a[t] = k\n",
    "Example\n",
    "\n",
    "For a = [2, 4, 7, 5, 3, 5, 8, 5, 1, 7], m = 4, and k = 10, the output should be solution(a, m, k) = 5.\n",
    "\n",
    "Let's consider all subarrays of length m = 4 and see which fit the description conditions:\n",
    "\n",
    "Subarray a[0..3] = [2, 4, 7, 5] doesn't contain any pair of integers with a sum of k = 10. Note that although the pair (a[3], a[3]) has the sum 5 + 5 = 10, it doesn't fit the requirement s ≠ t.\n",
    "Subarray a[1..4] = [4, 7, 5, 3] contains the pair (a[2], a[4]), where a[2] + a[4] = 7 + 3 = 10.\n",
    "Subarray a[2..5] = [7, 5, 3, 5] contains two pairs (a[2], a[4]) and (a[3], a[5]), both with a sum of k = 10.\n",
    "Subarray a[3..6] = [5, 3, 5, 8] contains the pair (a[3], a[5]), where a[3] + a[5] = 5 + 5 = 10.\n",
    "Subarray a[4..7] = [3, 5, 8, 5] contains the pair (a[5], a[7]), where a[5] + a[7] = 5 + 5 = 10.\n",
    "Subarray a[5..8] = [5, 8, 5, 1] contains the pair (a[5], a[7]), where a[5] + a[7] = 5 + 5 = 10.\n",
    "Subarray a[6..9] = [8, 5, 1, 7] doesn't contain any pair with a sum of k = 10.\n",
    "So the answer is 5, because there are 5 contiguous subarrays that contain a pair with a sum of k = 10.\n",
    "\n",
    "For a = [15, 8, 8, 2, 6, 4, 1, 7], m = 2, and k = 8, the output should be solution(a, m, k) = 2.\n",
    "\n",
    "There are 2 subarrays satisfying the description conditions:\n",
    "\n",
    "a[3..4] = [2, 6], where 2 + 6 = 8\n",
    "a[6..7] = [1, 7], where 1 + 7 = 8\n",
    "Input/Output\n",
    "\n",
    "[execution time limit] 4 seconds (py3)\n",
    "\n",
    "[memory limit] 1 GB\n",
    "\n",
    "[input] array.integer a\n",
    "\n",
    "The given array of integers.\n",
    "\n",
    "Guaranteed constraints:\n",
    "2 ≤ a.length ≤ 105,\n",
    "0 ≤ a[i] ≤ 109.\n",
    "\n",
    "[input] integer m\n",
    "\n",
    "An integer representing the length of the contiguous subarrays being considered.\n",
    "\n",
    "Guaranteed constraints:\n",
    "2 ≤ m ≤ a.length.\n",
    "\n",
    "[input] integer k\n",
    "\n",
    "An non-negative integer value representing the sum of the pairs we're trying to find within each subarray.\n",
    "\n",
    "Guaranteed constraints:\n",
    "0 ≤ k ≤ 109.\n",
    "\n",
    "[output] integer\n",
    "\n",
    "An integer representing the number of subarrays that contain a pair of integers with a sum of k."
   ]
  },
  {
   "cell_type": "code",
   "execution_count": null,
   "metadata": {},
   "outputs": [],
   "source": [
    "def solution(a, m, k):\n",
    "    freq = {}\n",
    "    counter = 0\n",
    "    for i in range(m - 1):\n",
    "        freq[a[i]] = freq.get(a[i], 0) + i\n",
    "    \n",
    "    for i in range(m - 1, len(a)):\n",
    "        freq[a[i]] = freq.get(a[i], k - a[i])\n",
    "        print(f\"{i} | {freq} | find: {k - a[i]}\")\n",
    "        if freq.get(k - a[i], 0) > 0:\n",
    "            print(\"found\")\n",
    "            counter += 1\n",
    "        print(f\"Delete: {a[i - m + 1]}\")\n",
    "        del freq[a[i - m + 1]]\n",
    "        \n",
    "    \n",
    "            \n",
    "# def solution(a, m, k):\n",
    "#     counter = 0\n",
    "#     for i in range(len(a) - m + 1):\n",
    "#         pairfound = False\n",
    "#         subset = a[i:i + m]\n",
    "        \n",
    "#         for i2 in range(len(subset)):\n",
    "#             subset2 = subset[:i2] + subset[i2 + 1:]\n",
    "#             if k - subset[i2] in subset2:\n",
    "#                 counter += 1\n",
    "#                 break\n",
    "                \n",
    "    return counter\n"
   ]
  },
  {
   "cell_type": "code",
   "execution_count": null,
   "metadata": {},
   "outputs": [],
   "source": []
  }
 ],
 "metadata": {
  "kernelspec": {
   "display_name": ".venv",
   "language": "python",
   "name": "python3"
  },
  "language_info": {
   "codemirror_mode": {
    "name": "ipython",
    "version": 3
   },
   "file_extension": ".py",
   "mimetype": "text/x-python",
   "name": "python",
   "nbconvert_exporter": "python",
   "pygments_lexer": "ipython3",
   "version": "3.12.0"
  }
 },
 "nbformat": 4,
 "nbformat_minor": 2
}
